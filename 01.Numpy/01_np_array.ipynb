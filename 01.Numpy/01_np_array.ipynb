{
 "metadata": {
  "language_info": {
   "codemirror_mode": {
    "name": "ipython",
    "version": 3
   },
   "file_extension": ".py",
   "mimetype": "text/x-python",
   "name": "python",
   "nbconvert_exporter": "python",
   "pygments_lexer": "ipython3",
   "version": "3.9.2-final"
  },
  "orig_nbformat": 2,
  "kernelspec": {
   "name": "python3",
   "display_name": "Python 3.9.2 64-bit",
   "metadata": {
    "interpreter": {
     "hash": "4ae4d07c553256b7d01980ff978f96a3f2bc948c521512af4709a697064d65e4"
    }
   }
  }
 },
 "nbformat": 4,
 "nbformat_minor": 2,
 "cells": [
  {
   "source": [
    "# Numpy - Numerical Python"
   ],
   "cell_type": "markdown",
   "metadata": {}
  },
  {
   "source": [
    "## 1. Numpy Array"
   ],
   "cell_type": "markdown",
   "metadata": {}
  },
  {
   "source": [
    "### List와 넘파이 어레이 속도 비교"
   ],
   "cell_type": "markdown",
   "metadata": {}
  },
  {
   "cell_type": "code",
   "execution_count": 1,
   "metadata": {},
   "outputs": [],
   "source": [
    "import numpy as np\n",
    "np_arr = np.arange(100000)"
   ]
  },
  {
   "cell_type": "code",
   "execution_count": 2,
   "metadata": {},
   "outputs": [],
   "source": [
    "nu_list = []\n",
    "for i in range(100000):\n",
    "    nu_list.append(i)"
   ]
  },
  {
   "cell_type": "code",
   "execution_count": 3,
   "metadata": {},
   "outputs": [],
   "source": [
    "nu_list = [i for i in range(100000)]"
   ]
  },
  {
   "cell_type": "code",
   "execution_count": 4,
   "metadata": {},
   "outputs": [
    {
     "output_type": "stream",
     "name": "stdout",
     "text": [
      "Wall time: 185 ms\n"
     ]
    }
   ],
   "source": [
    "%%time\n",
    "for i in range(100):\n",
    "    sum(nu_list)"
   ]
  },
  {
   "cell_type": "code",
   "execution_count": 5,
   "metadata": {},
   "outputs": [
    {
     "output_type": "stream",
     "name": "stdout",
     "text": [
      "Wall time: 6 ms\n"
     ]
    }
   ],
   "source": [
    "%%time\n",
    "for i in range(100):\n",
    "    np.sum(np_arr)"
   ]
  },
  {
   "source": [
    "### 1차원 배열(array) 만들기"
   ],
   "cell_type": "markdown",
   "metadata": {}
  },
  {
   "cell_type": "code",
   "execution_count": 6,
   "metadata": {},
   "outputs": [
    {
     "output_type": "execute_result",
     "data": {
      "text/plain": [
       "array([ 1.,  4.,  7., 10.])"
      ]
     },
     "metadata": {},
     "execution_count": 6
    }
   ],
   "source": [
    "vector = np.array([1, 4, 7, 10], float)\n",
    "vector"
   ]
  },
  {
   "cell_type": "code",
   "execution_count": 7,
   "metadata": {},
   "outputs": [
    {
     "output_type": "execute_result",
     "data": {
      "text/plain": [
       "numpy.ndarray"
      ]
     },
     "metadata": {},
     "execution_count": 7
    }
   ],
   "source": [
    "type(vector)"
   ]
  },
  {
   "cell_type": "code",
   "execution_count": 8,
   "metadata": {},
   "outputs": [
    {
     "output_type": "execute_result",
     "data": {
      "text/plain": [
       "(4,)"
      ]
     },
     "metadata": {},
     "execution_count": 8
    }
   ],
   "source": [
    "vector.shape"
   ]
  },
  {
   "source": [
    "### 2차원 배열 만들기"
   ],
   "cell_type": "markdown",
   "metadata": {}
  },
  {
   "cell_type": "code",
   "execution_count": 9,
   "metadata": {},
   "outputs": [
    {
     "output_type": "execute_result",
     "data": {
      "text/plain": [
       "array([[1, 2, 5, 8],\n",
       "       [2, 3, 4, 9],\n",
       "       [4, 5, 6, 7]])"
      ]
     },
     "metadata": {},
     "execution_count": 9
    }
   ],
   "source": [
    "matrix = np.array([[1,2,5,8], [2,3,4,9], [4,5,6,7]])\n",
    "matrix"
   ]
  },
  {
   "cell_type": "code",
   "execution_count": 10,
   "metadata": {},
   "outputs": [
    {
     "output_type": "execute_result",
     "data": {
      "text/plain": [
       "(3, 4)"
      ]
     },
     "metadata": {},
     "execution_count": 10
    }
   ],
   "source": [
    "matrix.shape"
   ]
  },
  {
   "source": [
    "### 3차원 배열 만들기"
   ],
   "cell_type": "markdown",
   "metadata": {}
  },
  {
   "cell_type": "code",
   "execution_count": 12,
   "metadata": {},
   "outputs": [
    {
     "output_type": "execute_result",
     "data": {
      "text/plain": [
       "array([[[1, 2, 5, 8],\n",
       "        [2, 3, 4, 9],\n",
       "        [4, 5, 6, 7]],\n",
       "\n",
       "       [[1, 2, 5, 8],\n",
       "        [2, 3, 4, 9],\n",
       "        [4, 5, 6, 7]],\n",
       "\n",
       "       [[1, 2, 5, 8],\n",
       "        [2, 3, 4, 9],\n",
       "        [4, 5, 6, 7]],\n",
       "\n",
       "       [[1, 2, 5, 8],\n",
       "        [2, 3, 4, 9],\n",
       "        [4, 5, 6, 7]]])"
      ]
     },
     "metadata": {},
     "execution_count": 12
    }
   ],
   "source": [
    "t_list = [[[1,2,5,8], [2,3,4,9], [4,5,6,7]],\n",
    "          [[1,2,5,8], [2,3,4,9], [4,5,6,7]],\n",
    "          [[1,2,5,8], [2,3,4,9], [4,5,6,7]],\n",
    "          [[1,2,5,8], [2,3,4,9], [4,5,6,7]]]\n",
    "tensor = np.array(t_list)\n",
    "tensor"
   ]
  },
  {
   "cell_type": "code",
   "execution_count": 13,
   "metadata": {},
   "outputs": [
    {
     "output_type": "execute_result",
     "data": {
      "text/plain": [
       "(4, 3, 4)"
      ]
     },
     "metadata": {},
     "execution_count": 13
    }
   ],
   "source": [
    "tensor.shape"
   ]
  },
  {
   "source": [
    "## Array shape"
   ],
   "cell_type": "markdown",
   "metadata": {}
  },
  {
   "source": [
    "### ndim & size"
   ],
   "cell_type": "markdown",
   "metadata": {}
  },
  {
   "cell_type": "code",
   "execution_count": 14,
   "metadata": {},
   "outputs": [
    {
     "output_type": "execute_result",
     "data": {
      "text/plain": [
       "(1, 2, 3)"
      ]
     },
     "metadata": {},
     "execution_count": 14
    }
   ],
   "source": [
    "vector.ndim, matrix.ndim, tensor.ndim"
   ]
  },
  {
   "cell_type": "code",
   "execution_count": null,
   "metadata": {},
   "outputs": [],
   "source": []
  }
 ]
}