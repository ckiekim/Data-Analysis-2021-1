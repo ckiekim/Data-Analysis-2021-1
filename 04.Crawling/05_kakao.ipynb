{
 "metadata": {
  "language_info": {
   "codemirror_mode": {
    "name": "ipython",
    "version": 3
   },
   "file_extension": ".py",
   "mimetype": "text/x-python",
   "name": "python",
   "nbconvert_exporter": "python",
   "pygments_lexer": "ipython3",
   "version": "3.7.7-final"
  },
  "orig_nbformat": 2,
  "kernelspec": {
   "name": "python3",
   "display_name": "Python 3.7.7 64-bit ('vsc': conda)",
   "metadata": {
    "interpreter": {
     "hash": "5a1baeb1610b05443f415525bf52a486212d0ee94c2d320214bf0d7d56e225dd"
    }
   }
  }
 },
 "nbformat": 4,
 "nbformat_minor": 2,
 "cells": [
  {
   "source": [
    "# 카카오맵 API"
   ],
   "cell_type": "markdown",
   "metadata": {}
  },
  {
   "cell_type": "code",
   "execution_count": 10,
   "metadata": {},
   "outputs": [],
   "source": [
    "import requests\n",
    "from urllib.parse import quote"
   ]
  },
  {
   "cell_type": "code",
   "execution_count": 11,
   "metadata": {},
   "outputs": [],
   "source": [
    "with open('kakaomapkey.txt', mode='r') as key_fd:\n",
    "    kmap_key = key_fd.read(100)"
   ]
  },
  {
   "source": [
    "### 주소 검색\n",
    "- GET /v2/local/search/address.{format} HTTP/1.1\n",
    "- Host: dapi.kakao.com\n",
    "- Authorization: KakaoAK {REST_API_KEY}"
   ],
   "cell_type": "markdown",
   "metadata": {}
  },
  {
   "cell_type": "code",
   "execution_count": 17,
   "metadata": {},
   "outputs": [
    {
     "output_type": "execute_result",
     "data": {
      "text/plain": [
       "{'documents': [{'address': {'address_name': '대구 북구 산격동 1445-3',\n",
       "    'b_code': '2723011100',\n",
       "    'h_code': '2723063100',\n",
       "    'main_address_no': '1445',\n",
       "    'mountain_yn': 'N',\n",
       "    'region_1depth_name': '대구',\n",
       "    'region_2depth_name': '북구',\n",
       "    'region_3depth_h_name': '산격4동',\n",
       "    'region_3depth_name': '산격동',\n",
       "    'sub_address_no': '3',\n",
       "    'x': '128.598409309488',\n",
       "    'y': '35.8920272135627'},\n",
       "   'address_name': '대구 북구 연암로 40',\n",
       "   'address_type': 'ROAD_ADDR',\n",
       "   'road_address': {'address_name': '대구 북구 연암로 40',\n",
       "    'building_name': '대구광역시청별관',\n",
       "    'main_building_no': '40',\n",
       "    'region_1depth_name': '대구',\n",
       "    'region_2depth_name': '북구',\n",
       "    'region_3depth_name': '산격동',\n",
       "    'road_name': '연암로',\n",
       "    'sub_building_no': '',\n",
       "    'underground_yn': 'N',\n",
       "    'x': '128.598409309488',\n",
       "    'y': '35.8920272135627',\n",
       "    'zone_no': '41542'},\n",
       "   'x': '128.598409309488',\n",
       "   'y': '35.8920272135627'}],\n",
       " 'meta': {'is_end': True, 'pageable_count': 1, 'total_count': 1}}"
      ]
     },
     "metadata": {},
     "execution_count": 17
    }
   ],
   "source": [
    "addr = '대구광역시 북구 연암로 40'\n",
    "kakao_url = 'https://dapi.kakao.com'\n",
    "api_url = '/v2/local/search/address.json?query='\n",
    "url = kakao_url + api_url + quote(addr)\n",
    "result = requests.get(url,\n",
    "            headers={\"Authorization\": f\"KakaoAK {kmap_key}\"}).json()\n",
    "result"
   ]
  },
  {
   "cell_type": "code",
   "execution_count": 18,
   "metadata": {},
   "outputs": [
    {
     "output_type": "execute_result",
     "data": {
      "text/plain": [
       "'128.598409309488'"
      ]
     },
     "metadata": {},
     "execution_count": 18
    }
   ],
   "source": [
    "result['documents'][0]['x']"
   ]
  },
  {
   "cell_type": "code",
   "execution_count": 19,
   "metadata": {},
   "outputs": [
    {
     "output_type": "execute_result",
     "data": {
      "text/plain": [
       "(35.8920272135627, 128.598409309488)"
      ]
     },
     "metadata": {},
     "execution_count": 19
    }
   ],
   "source": [
    "lat = float(result['documents'][0]['y'])\n",
    "lng = float(result['documents'][0]['x'])\n",
    "lat, lng"
   ]
  },
  {
   "cell_type": "code",
   "execution_count": null,
   "metadata": {},
   "outputs": [],
   "source": []
  }
 ]
}