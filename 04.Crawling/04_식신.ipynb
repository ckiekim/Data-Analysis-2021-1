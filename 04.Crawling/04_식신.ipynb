{
 "metadata": {
  "language_info": {
   "codemirror_mode": {
    "name": "ipython",
    "version": 3
   },
   "file_extension": ".py",
   "mimetype": "text/x-python",
   "name": "python",
   "nbconvert_exporter": "python",
   "pygments_lexer": "ipython3",
   "version": "3.9.2-final"
  },
  "orig_nbformat": 2,
  "kernelspec": {
   "name": "python3",
   "display_name": "Python 3.9.2 64-bit",
   "metadata": {
    "interpreter": {
     "hash": "4ae4d07c553256b7d01980ff978f96a3f2bc948c521512af4709a697064d65e4"
    }
   }
  }
 },
 "nbformat": 4,
 "nbformat_minor": 2,
 "cells": [
  {
   "source": [
    "# 식신 사이트 크롤링"
   ],
   "cell_type": "markdown",
   "metadata": {}
  },
  {
   "cell_type": "code",
   "execution_count": 2,
   "metadata": {},
   "outputs": [],
   "source": [
    "from bs4 import BeautifulSoup \n",
    "import pandas as pd \n",
    "import requests\n",
    "from urllib.parse import quote"
   ]
  },
  {
   "cell_type": "code",
   "execution_count": 3,
   "metadata": {},
   "outputs": [
    {
     "output_type": "execute_result",
     "data": {
      "text/plain": [
       "'%EB%8C%80%EA%B5%AC%EC%8B%9C%EC%B2%AD'"
      ]
     },
     "metadata": {},
     "execution_count": 3
    }
   ],
   "source": [
    "quote('대구시청')"
   ]
  },
  {
   "cell_type": "code",
   "execution_count": 4,
   "metadata": {},
   "outputs": [],
   "source": [
    "place = '산격동'\n",
    "base_url = 'https://www.siksinhot.com'\n",
    "sub_url = '/search?keywords='\n",
    "url = base_url + sub_url + quote(place)\n",
    "req = requests.get(url)\n",
    "soup = BeautifulSoup(req.text, 'html.parser')"
   ]
  },
  {
   "cell_type": "code",
   "execution_count": 6,
   "metadata": {},
   "outputs": [
    {
     "output_type": "execute_result",
     "data": {
      "text/plain": [
       "60"
      ]
     },
     "metadata": {},
     "execution_count": 6
    }
   ],
   "source": [
    "lis = soup.select_one('.listTy1').find_all('li')\n",
    "len(lis)"
   ]
  },
  {
   "cell_type": "code",
   "execution_count": 9,
   "metadata": {},
   "outputs": [
    {
     "output_type": "execute_result",
     "data": {
      "text/plain": [
       "12"
      ]
     },
     "metadata": {},
     "execution_count": 9
    }
   ],
   "source": [
    "a_list = soup.select_one('.listTy1').find('ul').find_all('a')\n",
    "len(a_list)"
   ]
  },
  {
   "cell_type": "code",
   "execution_count": 10,
   "metadata": {},
   "outputs": [
    {
     "output_type": "execute_result",
     "data": {
      "text/plain": [
       "('/P/268646', '4.4', '반짝반짝빛나는', '단호박퓨레 타르트, 밀크티')"
      ]
     },
     "metadata": {},
     "execution_count": 10
    }
   ],
   "source": [
    "a_tag = a_list[0]\n",
    "rest_url = a_tag['href']\n",
    "score = a_tag.select_one('.score').get_text()\n",
    "store = a_tag.select_one('.store').get_text()\n",
    "menu = a_tag.find('p').get_text()\n",
    "rest_url, score, store, menu"
   ]
  },
  {
   "cell_type": "code",
   "execution_count": 11,
   "metadata": {},
   "outputs": [
    {
     "output_type": "error",
     "ename": "AttributeError",
     "evalue": "'NoneType' object has no attribute 'get_text'",
     "traceback": [
      "\u001b[1;31m---------------------------------------------------------------------------\u001b[0m",
      "\u001b[1;31mAttributeError\u001b[0m                            Traceback (most recent call last)",
      "\u001b[1;32m<ipython-input-11-248223e2edee>\u001b[0m in \u001b[0;36m<module>\u001b[1;34m\u001b[0m\n\u001b[0;32m      2\u001b[0m \u001b[1;32mfor\u001b[0m \u001b[0ma_tag\u001b[0m \u001b[1;32min\u001b[0m \u001b[0ma_list\u001b[0m\u001b[1;33m:\u001b[0m\u001b[1;33m\u001b[0m\u001b[1;33m\u001b[0m\u001b[0m\n\u001b[0;32m      3\u001b[0m     \u001b[0mrest_url\u001b[0m \u001b[1;33m=\u001b[0m \u001b[0ma_tag\u001b[0m\u001b[1;33m[\u001b[0m\u001b[1;34m'href'\u001b[0m\u001b[1;33m]\u001b[0m\u001b[1;33m\u001b[0m\u001b[1;33m\u001b[0m\u001b[0m\n\u001b[1;32m----> 4\u001b[1;33m     \u001b[0mscore\u001b[0m \u001b[1;33m=\u001b[0m \u001b[0ma_tag\u001b[0m\u001b[1;33m.\u001b[0m\u001b[0mselect_one\u001b[0m\u001b[1;33m(\u001b[0m\u001b[1;34m'.score'\u001b[0m\u001b[1;33m)\u001b[0m\u001b[1;33m.\u001b[0m\u001b[0mget_text\u001b[0m\u001b[1;33m(\u001b[0m\u001b[1;33m)\u001b[0m\u001b[1;33m\u001b[0m\u001b[1;33m\u001b[0m\u001b[0m\n\u001b[0m\u001b[0;32m      5\u001b[0m     \u001b[0mstore\u001b[0m \u001b[1;33m=\u001b[0m \u001b[0ma_tag\u001b[0m\u001b[1;33m.\u001b[0m\u001b[0mselect_one\u001b[0m\u001b[1;33m(\u001b[0m\u001b[1;34m'.store'\u001b[0m\u001b[1;33m)\u001b[0m\u001b[1;33m.\u001b[0m\u001b[0mget_text\u001b[0m\u001b[1;33m(\u001b[0m\u001b[1;33m)\u001b[0m\u001b[1;33m\u001b[0m\u001b[1;33m\u001b[0m\u001b[0m\n\u001b[0;32m      6\u001b[0m     \u001b[0mmenu\u001b[0m \u001b[1;33m=\u001b[0m \u001b[0ma_tag\u001b[0m\u001b[1;33m.\u001b[0m\u001b[0mfind\u001b[0m\u001b[1;33m(\u001b[0m\u001b[1;34m'p'\u001b[0m\u001b[1;33m)\u001b[0m\u001b[1;33m.\u001b[0m\u001b[0mget_text\u001b[0m\u001b[1;33m(\u001b[0m\u001b[1;33m)\u001b[0m\u001b[1;33m\u001b[0m\u001b[1;33m\u001b[0m\u001b[0m\n",
      "\u001b[1;31mAttributeError\u001b[0m: 'NoneType' object has no attribute 'get_text'"
     ]
    }
   ],
   "source": [
    "url_list, score_list, store_list, menu_list = [], [], [], []\n",
    "for a_tag in a_list:\n",
    "    rest_url = a_tag['href']\n",
    "    score = a_tag.select_one('.score').get_text()\n",
    "    store = a_tag.select_one('.store').get_text()\n",
    "    menu = a_tag.find('p').get_text()\n",
    "\n",
    "    url_list.append(rest_url)\n",
    "    score_list.append(score)\n",
    "    store_list.append(store)\n",
    "    menu_list.append(menu)"
   ]
  },
  {
   "cell_type": "code",
   "execution_count": 13,
   "metadata": {},
   "outputs": [
    {
     "output_type": "execute_result",
     "data": {
      "text/plain": [
       "('/P/269346', '평가중', '봉봉해물탕', '해물탕\\n, 해물찜')"
      ]
     },
     "metadata": {},
     "execution_count": 13
    }
   ],
   "source": [
    "a_tag = a_list[6]\n",
    "rest_url = a_tag['href']\n",
    "score = a_tag.select_one('.score2').get_text()\n",
    "store = a_tag.select_one('.store').get_text()\n",
    "menu = a_tag.find('p').get_text()\n",
    "rest_url, score, store, menu"
   ]
  },
  {
   "cell_type": "code",
   "execution_count": 15,
   "metadata": {},
   "outputs": [],
   "source": [
    "url_list, score_list, store_list, menu_list = [], [], [], []\n",
    "for a_tag in a_list:\n",
    "    rest_url = a_tag['href']\n",
    "    '''\n",
    "    if a_tag.select_one('.score'):\n",
    "        score = a_tag.select_one('.score').get_text()\n",
    "    else:\n",
    "        score = a_tag.select_one('.score2').get_text()\n",
    "    '''\n",
    "    score = a_tag.select_one('.score').get_text() if a_tag.select_one('.score') \\\n",
    "            else a_tag.select_one('.score2').get_text()\n",
    "    store = a_tag.select_one('.store').get_text()\n",
    "    menu = a_tag.find('p').get_text()\n",
    "\n",
    "    url_list.append(rest_url)\n",
    "    score_list.append(score)\n",
    "    store_list.append(store)\n",
    "    menu_list.append(menu)"
   ]
  },
  {
   "cell_type": "code",
   "execution_count": 16,
   "metadata": {},
   "outputs": [
    {
     "output_type": "execute_result",
     "data": {
      "text/plain": [
       "           url   평점          상호  \\\n",
       "0    /P/268646  4.4     반짝반짝빛나는   \n",
       "1    /P/268652  3.5       인도방랑기   \n",
       "2    /P/268658  4.8        ZZIM   \n",
       "3    /P/355593  3.7       홍대함바그   \n",
       "4    /P/268665  3.0       밥하는남자   \n",
       "5    /P/268649  3.0       포베트21   \n",
       "6    /P/269346  평가중       봉봉해물탕   \n",
       "7    /P/361407  4.3        72번가   \n",
       "8    /P/455234  4.3  META PIZZA   \n",
       "9   /P/1064049  평가중    모모야스시 참치   \n",
       "10   /P/423163  평가중   1905몬스터피자   \n",
       "11   /P/434493  평가중        반미리코   \n",
       "\n",
       "                                                   메뉴  \n",
       "0                                      단호박퓨레 타르트, 밀크티  \n",
       "1                                     탄두리치킨, 커리, 세트메뉴  \n",
       "2                                          한마리, 가든샐러드  \n",
       "3                            매콤함바그, 달콤함바그, 매콤갈비, 달콤갈비  \n",
       "4                              상하이누룽지, 통낙지라이스, 돈카츠샐러드  \n",
       "5   양지 쇠고기 쌀국수, 세트(월남쌈+양지or해물쌀국수2개), 반세오, 월남쌈, 카오팟...  \n",
       "6                                          해물탕\\n, 해물찜  \n",
       "7                         준벅, 카우보이정식, 코스모 폴리탄, 프렌치 키스  \n",
       "8        미트디럭스피자, 쉬림프토파토 파스타, 로제, 프리마베라 피자, 쉬림프크림 파스타  \n",
       "9          모듬 스시 11P, 특스시 13P, 모모야스시 11P, 참치메뉴, 광어추가회  \n",
       "10  오리지날치즈 피자/페퍼로니 피자/베이컨체다 피자, 콤비네이션 피자/케이준치킨 피자/...  \n",
       "11          돼지고기/닭고기/어묵 반미, 소고기 치즈 반미, 쌀국수, 팟타이, 분보싸오  "
      ],
      "text/html": "<div>\n<style scoped>\n    .dataframe tbody tr th:only-of-type {\n        vertical-align: middle;\n    }\n\n    .dataframe tbody tr th {\n        vertical-align: top;\n    }\n\n    .dataframe thead th {\n        text-align: right;\n    }\n</style>\n<table border=\"1\" class=\"dataframe\">\n  <thead>\n    <tr style=\"text-align: right;\">\n      <th></th>\n      <th>url</th>\n      <th>평점</th>\n      <th>상호</th>\n      <th>메뉴</th>\n    </tr>\n  </thead>\n  <tbody>\n    <tr>\n      <th>0</th>\n      <td>/P/268646</td>\n      <td>4.4</td>\n      <td>반짝반짝빛나는</td>\n      <td>단호박퓨레 타르트, 밀크티</td>\n    </tr>\n    <tr>\n      <th>1</th>\n      <td>/P/268652</td>\n      <td>3.5</td>\n      <td>인도방랑기</td>\n      <td>탄두리치킨, 커리, 세트메뉴</td>\n    </tr>\n    <tr>\n      <th>2</th>\n      <td>/P/268658</td>\n      <td>4.8</td>\n      <td>ZZIM</td>\n      <td>한마리, 가든샐러드</td>\n    </tr>\n    <tr>\n      <th>3</th>\n      <td>/P/355593</td>\n      <td>3.7</td>\n      <td>홍대함바그</td>\n      <td>매콤함바그, 달콤함바그, 매콤갈비, 달콤갈비</td>\n    </tr>\n    <tr>\n      <th>4</th>\n      <td>/P/268665</td>\n      <td>3.0</td>\n      <td>밥하는남자</td>\n      <td>상하이누룽지, 통낙지라이스, 돈카츠샐러드</td>\n    </tr>\n    <tr>\n      <th>5</th>\n      <td>/P/268649</td>\n      <td>3.0</td>\n      <td>포베트21</td>\n      <td>양지 쇠고기 쌀국수, 세트(월남쌈+양지or해물쌀국수2개), 반세오, 월남쌈, 카오팟...</td>\n    </tr>\n    <tr>\n      <th>6</th>\n      <td>/P/269346</td>\n      <td>평가중</td>\n      <td>봉봉해물탕</td>\n      <td>해물탕\\n, 해물찜</td>\n    </tr>\n    <tr>\n      <th>7</th>\n      <td>/P/361407</td>\n      <td>4.3</td>\n      <td>72번가</td>\n      <td>준벅, 카우보이정식, 코스모 폴리탄, 프렌치 키스</td>\n    </tr>\n    <tr>\n      <th>8</th>\n      <td>/P/455234</td>\n      <td>4.3</td>\n      <td>META PIZZA</td>\n      <td>미트디럭스피자, 쉬림프토파토 파스타, 로제, 프리마베라 피자, 쉬림프크림 파스타</td>\n    </tr>\n    <tr>\n      <th>9</th>\n      <td>/P/1064049</td>\n      <td>평가중</td>\n      <td>모모야스시 참치</td>\n      <td>모듬 스시 11P, 특스시 13P, 모모야스시 11P, 참치메뉴, 광어추가회</td>\n    </tr>\n    <tr>\n      <th>10</th>\n      <td>/P/423163</td>\n      <td>평가중</td>\n      <td>1905몬스터피자</td>\n      <td>오리지날치즈 피자/페퍼로니 피자/베이컨체다 피자, 콤비네이션 피자/케이준치킨 피자/...</td>\n    </tr>\n    <tr>\n      <th>11</th>\n      <td>/P/434493</td>\n      <td>평가중</td>\n      <td>반미리코</td>\n      <td>돼지고기/닭고기/어묵 반미, 소고기 치즈 반미, 쌀국수, 팟타이, 분보싸오</td>\n    </tr>\n  </tbody>\n</table>\n</div>"
     },
     "metadata": {},
     "execution_count": 16
    }
   ],
   "source": [
    "df = pd.DataFrame({\n",
    "    'url': url_list, '평점':score_list, '상호':store_list, '메뉴':menu_list\n",
    "})\n",
    "df"
   ]
  },
  {
   "cell_type": "code",
   "execution_count": null,
   "metadata": {},
   "outputs": [],
   "source": []
  }
 ]
}