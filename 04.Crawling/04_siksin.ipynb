{
 "metadata": {
  "language_info": {
   "codemirror_mode": {
    "name": "ipython",
    "version": 3
   },
   "file_extension": ".py",
   "mimetype": "text/x-python",
   "name": "python",
   "nbconvert_exporter": "python",
   "pygments_lexer": "ipython3",
   "version": "3.7.7-final"
  },
  "orig_nbformat": 2,
  "kernelspec": {
   "name": "python3",
   "display_name": "Python 3.7.7 64-bit ('vsc': conda)",
   "metadata": {
    "interpreter": {
     "hash": "5a1baeb1610b05443f415525bf52a486212d0ee94c2d320214bf0d7d56e225dd"
    }
   }
  }
 },
 "nbformat": 4,
 "nbformat_minor": 2,
 "cells": [
  {
   "cell_type": "code",
   "execution_count": 1,
   "metadata": {},
   "outputs": [],
   "source": [
    "import requests\n",
    "from urllib.parse import quote\n",
    "from bs4 import BeautifulSoup\n",
    "import pandas as pd"
   ]
  },
  {
   "cell_type": "code",
   "execution_count": 2,
   "metadata": {},
   "outputs": [],
   "source": [
    "place = '산격동'\n",
    "base_url = 'https://www.siksinhot.com'\n",
    "sub_sub = '/search?keywords=' + quote(place)\n",
    "url = base_url + sub_sub\n",
    "req = requests.get(url)\n",
    "soup = BeautifulSoup(req.text, 'html.parser')\n",
    "a_list = soup.select_one('.listTy1').find('ul').find_all('a')"
   ]
  },
  {
   "cell_type": "code",
   "execution_count": 3,
   "metadata": {},
   "outputs": [
    {
     "output_type": "execute_result",
     "data": {
      "text/plain": [
       "12"
      ]
     },
     "metadata": {},
     "execution_count": 3
    }
   ],
   "source": [
    "len(a_list)"
   ]
  },
  {
   "cell_type": "code",
   "execution_count": 16,
   "metadata": {},
   "outputs": [
    {
     "output_type": "execute_result",
     "data": {
      "text/plain": [
       "'/P/361407'"
      ]
     },
     "metadata": {},
     "execution_count": 16
    }
   ],
   "source": [
    "a_tag = a_list[7]\n",
    "rest_url = a_tag['href']\n",
    "rest_url"
   ]
  },
  {
   "cell_type": "code",
   "execution_count": 17,
   "metadata": {},
   "outputs": [
    {
     "output_type": "execute_result",
     "data": {
      "text/plain": [
       "('4.3', '72번가', '준벅, 카우보이정식, 코스모 폴리탄, 프렌치 키스')"
      ]
     },
     "metadata": {},
     "execution_count": 17
    }
   ],
   "source": [
    "score = a_tag.select_one('.score').string\n",
    "name = a_tag.select_one('.store').string\n",
    "menu = a_tag.find('p').get_text()\n",
    "score, name, menu"
   ]
  },
  {
   "cell_type": "code",
   "execution_count": 18,
   "metadata": {},
   "outputs": [],
   "source": [
    "url = base_url + rest_url\n",
    "req = requests.get(url)\n",
    "rest_soup = BeautifulSoup(req.text, 'html.parser')"
   ]
  },
  {
   "cell_type": "code",
   "execution_count": 19,
   "metadata": {},
   "outputs": [
    {
     "output_type": "execute_result",
     "data": {
      "text/plain": [
       "'053-939-0817'"
      ]
     },
     "metadata": {},
     "execution_count": 19
    }
   ],
   "source": [
    "tel = rest_soup.select_one('.p_tel').find('p').get_text()\n",
    "tel"
   ]
  },
  {
   "cell_type": "code",
   "execution_count": null,
   "metadata": {},
   "outputs": [],
   "source": [
    "addr = rest_soup.select_one('.txt_adr').get_text()\n",
    "addr"
   ]
  },
  {
   "cell_type": "code",
   "execution_count": 14,
   "metadata": {},
   "outputs": [],
   "source": [
    "name_list, score_list, menu_list, tel_list, addr_list = [], [], [], [], []\n",
    "for a_tag in a_list:\n",
    "    name = a_tag.select_one('.store').string\n",
    "    score = a_tag.select_one('.score').get_text() if a_tag.select_one('.score') else a_tag.select_one('.score2').get_text()\n",
    "    menu = a_tag.find('p').get_text()\n",
    "\n",
    "    rest_url = a_tag['href']\n",
    "    url = base_url + rest_url\n",
    "    req = requests.get(url)\n",
    "    rest_soup = BeautifulSoup(req.text, 'html.parser')\n",
    "    tel = rest_soup.select_one('.p_tel').find('p').get_text()\n",
    "    addr = rest_soup.select_one('.txt_adr').get_text()\n",
    "\n",
    "    name_list.append(name)\n",
    "    score_list.append(score)\n",
    "    menu_list.append(menu)\n",
    "    tel_list.append(tel)\n",
    "    addr_list.append(addr)"
   ]
  },
  {
   "cell_type": "code",
   "execution_count": 15,
   "metadata": {},
   "outputs": [
    {
     "output_type": "execute_result",
     "data": {
      "text/plain": [
       "            상호   평점                                                 메뉴  \\\n",
       "0      반짝반짝빛나는  4.4                                     단호박퓨레 타르트, 밀크티   \n",
       "1        인도방랑기  3.5                                    탄두리치킨, 커리, 세트메뉴   \n",
       "2         ZZIM  4.8                                         한마리, 가든샐러드   \n",
       "3        홍대함바그  3.7                           매콤함바그, 달콤함바그, 매콤갈비, 달콤갈비   \n",
       "4        밥하는남자  3.0                             상하이누룽지, 통낙지라이스, 돈카츠샐러드   \n",
       "5        포베트21  3.0  양지 쇠고기 쌀국수, 세트(월남쌈+양지or해물쌀국수2개), 반세오, 월남쌈, 카오팟...   \n",
       "6        봉봉해물탕  평가중                                         해물탕\\n, 해물찜   \n",
       "7         72번가  4.3                        준벅, 카우보이정식, 코스모 폴리탄, 프렌치 키스   \n",
       "8   META PIZZA  4.3       미트디럭스피자, 쉬림프토파토 파스타, 로제, 프리마베라 피자, 쉬림프크림 파스타   \n",
       "9     모모야스시 참치  평가중         모듬 스시 11P, 특스시 13P, 모모야스시 11P, 참치메뉴, 광어추가회   \n",
       "10   1905몬스터피자  평가중  오리지날치즈 피자/페퍼로니 피자/베이컨체다 피자, 콤비네이션 피자/케이준치킨 피자/...   \n",
       "11        반미리코  평가중          돼지고기/닭고기/어묵 반미, 소고기 치즈 반미, 쌀국수, 팟타이, 분보싸오   \n",
       "\n",
       "               전화                     주소  \n",
       "0    053-954-8111   대구광역시 북구 대학로23길 12-1  \n",
       "1    053-956-9940        대구광역시 북구 대학로 81  \n",
       "2    053-941-7272           대구 북구 대학로 61  \n",
       "3    053-269-5008   대구광역시 북구 대학로23길 19-6  \n",
       "4   070-7584-1078  대구광역시 북구 대학로23길 25-2   \n",
       "5    053-939-3688                         \n",
       "6    053-383-8000       대구 북구 유통단지로7길 21  \n",
       "7    053-939-0817                         \n",
       "8    053-939-6767  대구광역시 북구 대학로 103 지하1층  \n",
       "9    053-381-8999        대구광역시 북구 대불로 37  \n",
       "10   053-944-2520     대구광역시 북구 대학로15길 6   \n",
       "11  070-8278-1607         대구 북구 대학로23길 7  "
      ],
      "text/html": "<div>\n<style scoped>\n    .dataframe tbody tr th:only-of-type {\n        vertical-align: middle;\n    }\n\n    .dataframe tbody tr th {\n        vertical-align: top;\n    }\n\n    .dataframe thead th {\n        text-align: right;\n    }\n</style>\n<table border=\"1\" class=\"dataframe\">\n  <thead>\n    <tr style=\"text-align: right;\">\n      <th></th>\n      <th>상호</th>\n      <th>평점</th>\n      <th>메뉴</th>\n      <th>전화</th>\n      <th>주소</th>\n    </tr>\n  </thead>\n  <tbody>\n    <tr>\n      <th>0</th>\n      <td>반짝반짝빛나는</td>\n      <td>4.4</td>\n      <td>단호박퓨레 타르트, 밀크티</td>\n      <td>053-954-8111</td>\n      <td>대구광역시 북구 대학로23길 12-1</td>\n    </tr>\n    <tr>\n      <th>1</th>\n      <td>인도방랑기</td>\n      <td>3.5</td>\n      <td>탄두리치킨, 커리, 세트메뉴</td>\n      <td>053-956-9940</td>\n      <td>대구광역시 북구 대학로 81</td>\n    </tr>\n    <tr>\n      <th>2</th>\n      <td>ZZIM</td>\n      <td>4.8</td>\n      <td>한마리, 가든샐러드</td>\n      <td>053-941-7272</td>\n      <td>대구 북구 대학로 61</td>\n    </tr>\n    <tr>\n      <th>3</th>\n      <td>홍대함바그</td>\n      <td>3.7</td>\n      <td>매콤함바그, 달콤함바그, 매콤갈비, 달콤갈비</td>\n      <td>053-269-5008</td>\n      <td>대구광역시 북구 대학로23길 19-6</td>\n    </tr>\n    <tr>\n      <th>4</th>\n      <td>밥하는남자</td>\n      <td>3.0</td>\n      <td>상하이누룽지, 통낙지라이스, 돈카츠샐러드</td>\n      <td>070-7584-1078</td>\n      <td>대구광역시 북구 대학로23길 25-2</td>\n    </tr>\n    <tr>\n      <th>5</th>\n      <td>포베트21</td>\n      <td>3.0</td>\n      <td>양지 쇠고기 쌀국수, 세트(월남쌈+양지or해물쌀국수2개), 반세오, 월남쌈, 카오팟...</td>\n      <td>053-939-3688</td>\n      <td></td>\n    </tr>\n    <tr>\n      <th>6</th>\n      <td>봉봉해물탕</td>\n      <td>평가중</td>\n      <td>해물탕\\n, 해물찜</td>\n      <td>053-383-8000</td>\n      <td>대구 북구 유통단지로7길 21</td>\n    </tr>\n    <tr>\n      <th>7</th>\n      <td>72번가</td>\n      <td>4.3</td>\n      <td>준벅, 카우보이정식, 코스모 폴리탄, 프렌치 키스</td>\n      <td>053-939-0817</td>\n      <td></td>\n    </tr>\n    <tr>\n      <th>8</th>\n      <td>META PIZZA</td>\n      <td>4.3</td>\n      <td>미트디럭스피자, 쉬림프토파토 파스타, 로제, 프리마베라 피자, 쉬림프크림 파스타</td>\n      <td>053-939-6767</td>\n      <td>대구광역시 북구 대학로 103 지하1층</td>\n    </tr>\n    <tr>\n      <th>9</th>\n      <td>모모야스시 참치</td>\n      <td>평가중</td>\n      <td>모듬 스시 11P, 특스시 13P, 모모야스시 11P, 참치메뉴, 광어추가회</td>\n      <td>053-381-8999</td>\n      <td>대구광역시 북구 대불로 37</td>\n    </tr>\n    <tr>\n      <th>10</th>\n      <td>1905몬스터피자</td>\n      <td>평가중</td>\n      <td>오리지날치즈 피자/페퍼로니 피자/베이컨체다 피자, 콤비네이션 피자/케이준치킨 피자/...</td>\n      <td>053-944-2520</td>\n      <td>대구광역시 북구 대학로15길 6</td>\n    </tr>\n    <tr>\n      <th>11</th>\n      <td>반미리코</td>\n      <td>평가중</td>\n      <td>돼지고기/닭고기/어묵 반미, 소고기 치즈 반미, 쌀국수, 팟타이, 분보싸오</td>\n      <td>070-8278-1607</td>\n      <td>대구 북구 대학로23길 7</td>\n    </tr>\n  </tbody>\n</table>\n</div>"
     },
     "metadata": {},
     "execution_count": 15
    }
   ],
   "source": [
    "df = pd.DataFrame({\n",
    "        '상호':name_list, '평점':score_list, '메뉴':menu_list,\n",
    "        '전화':tel_list, '주소':addr_list\n",
    "})\n",
    "df"
   ]
  },
  {
   "cell_type": "code",
   "execution_count": 25,
   "metadata": {},
   "outputs": [
    {
     "output_type": "execute_result",
     "data": {
      "text/plain": [
       "[<h4 data-reactid=\"181\">주소</h4>,\n",
       " <p data-reactid=\"182\"><a class=\"txt_adr\" data-reactid=\"183\" href=\"#layer_store_big_map\"></a><span data-reactid=\"184\"><!-- react-text: 185 -->(지번) <!-- /react-text --><!-- react-text: 186 -->대구 북구 산격동 1393-1<!-- /react-text --></span><a class=\"btnTy1 btn_google_map\" data-reactid=\"187\" href=\"http://maps.google.com/maps?q=35.893029,128.608661\" target=\"_blank\">구글 지도로 보기</a></p>,\n",
       " <a class=\"txt_adr\" data-reactid=\"183\" href=\"#layer_store_big_map\"></a>,\n",
       " <span data-reactid=\"184\"><!-- react-text: 185 -->(지번) <!-- /react-text --><!-- react-text: 186 -->대구 북구 산격동 1393-1<!-- /react-text --></span>,\n",
       " <a class=\"btnTy1 btn_google_map\" data-reactid=\"187\" href=\"http://maps.google.com/maps?q=35.893029,128.608661\" target=\"_blank\">구글 지도로 보기</a>]"
      ]
     },
     "metadata": {},
     "execution_count": 25
    }
   ],
   "source": [
    "addr_div = rest_soup.select_one('.p_tel').next_sibling()\n",
    "addr_div"
   ]
  },
  {
   "cell_type": "code",
   "execution_count": 34,
   "metadata": {},
   "outputs": [
    {
     "output_type": "stream",
     "name": "stdout",
     "text": [
      "none\n"
     ]
    }
   ],
   "source": [
    "addr = addr_div[1].select_one('.txt_adr').get_text()\n",
    "if not addr:\n",
    "    print('none')"
   ]
  },
  {
   "cell_type": "code",
   "execution_count": 31,
   "metadata": {},
   "outputs": [
    {
     "output_type": "execute_result",
     "data": {
      "text/plain": [
       "'대구 북구 산격동 1393-1'"
      ]
     },
     "metadata": {},
     "execution_count": 31
    }
   ],
   "source": [
    "addr = addr_div[1].find('span').get_text()[5:]\n",
    "addr"
   ]
  },
  {
   "cell_type": "code",
   "execution_count": 36,
   "metadata": {},
   "outputs": [],
   "source": [
    "name_list, score_list, menu_list, tel_list, addr_list = [], [], [], [], []\n",
    "for a_tag in a_list:\n",
    "    name = a_tag.select_one('.store').string\n",
    "    score = a_tag.select_one('.score').get_text() if a_tag.select_one('.score') else a_tag.select_one('.score2').get_text()\n",
    "    menu = a_tag.find('p').get_text()\n",
    "\n",
    "    rest_url = a_tag['href']\n",
    "    url = base_url + rest_url\n",
    "    req = requests.get(url)\n",
    "    rest_soup = BeautifulSoup(req.text, 'html.parser')\n",
    "    tel = rest_soup.select_one('.p_tel').find('p').get_text()\n",
    "    addr_div = rest_soup.select_one('.p_tel').next_sibling()\n",
    "    addr = addr_div[1].select_one('.txt_adr').get_text() if addr_div[1].select_one('.txt_adr').get_text() \\\n",
    "            else addr_div[1].find('span').get_text()[5:]\n",
    "\n",
    "    name_list.append(name)\n",
    "    score_list.append(score)\n",
    "    menu_list.append(menu)\n",
    "    tel_list.append(tel)\n",
    "    addr_list.append(addr)"
   ]
  },
  {
   "cell_type": "code",
   "execution_count": 37,
   "metadata": {},
   "outputs": [
    {
     "output_type": "execute_result",
     "data": {
      "text/plain": [
       "            상호   평점                                                 메뉴  \\\n",
       "0      반짝반짝빛나는  4.4                                     단호박퓨레 타르트, 밀크티   \n",
       "1        인도방랑기  3.5                                    탄두리치킨, 커리, 세트메뉴   \n",
       "2         ZZIM  4.8                                         한마리, 가든샐러드   \n",
       "3        홍대함바그  3.7                           매콤함바그, 달콤함바그, 매콤갈비, 달콤갈비   \n",
       "4        밥하는남자  3.0                             상하이누룽지, 통낙지라이스, 돈카츠샐러드   \n",
       "5        포베트21  3.0  양지 쇠고기 쌀국수, 세트(월남쌈+양지or해물쌀국수2개), 반세오, 월남쌈, 카오팟...   \n",
       "6        봉봉해물탕  평가중                                         해물탕\\n, 해물찜   \n",
       "7         72번가  4.3                        준벅, 카우보이정식, 코스모 폴리탄, 프렌치 키스   \n",
       "8   META PIZZA  4.3       미트디럭스피자, 쉬림프토파토 파스타, 로제, 프리마베라 피자, 쉬림프크림 파스타   \n",
       "9     모모야스시 참치  평가중         모듬 스시 11P, 특스시 13P, 모모야스시 11P, 참치메뉴, 광어추가회   \n",
       "10   1905몬스터피자  평가중  오리지날치즈 피자/페퍼로니 피자/베이컨체다 피자, 콤비네이션 피자/케이준치킨 피자/...   \n",
       "11        반미리코  평가중          돼지고기/닭고기/어묵 반미, 소고기 치즈 반미, 쌀국수, 팟타이, 분보싸오   \n",
       "\n",
       "               전화                     주소  \n",
       "0    053-954-8111   대구광역시 북구 대학로23길 12-1  \n",
       "1    053-956-9940        대구광역시 북구 대학로 81  \n",
       "2    053-941-7272           대구 북구 대학로 61  \n",
       "3    053-269-5008   대구광역시 북구 대학로23길 19-6  \n",
       "4   070-7584-1078  대구광역시 북구 대학로23길 25-2   \n",
       "5    053-939-3688     대구시 북구 산격동 1416-49  \n",
       "6    053-383-8000       대구 북구 유통단지로7길 21  \n",
       "7    053-939-0817       대구 북구 산격동 1393-1  \n",
       "8    053-939-6767  대구광역시 북구 대학로 103 지하1층  \n",
       "9    053-381-8999        대구광역시 북구 대불로 37  \n",
       "10   053-944-2520     대구광역시 북구 대학로15길 6   \n",
       "11  070-8278-1607         대구 북구 대학로23길 7  "
      ],
      "text/html": "<div>\n<style scoped>\n    .dataframe tbody tr th:only-of-type {\n        vertical-align: middle;\n    }\n\n    .dataframe tbody tr th {\n        vertical-align: top;\n    }\n\n    .dataframe thead th {\n        text-align: right;\n    }\n</style>\n<table border=\"1\" class=\"dataframe\">\n  <thead>\n    <tr style=\"text-align: right;\">\n      <th></th>\n      <th>상호</th>\n      <th>평점</th>\n      <th>메뉴</th>\n      <th>전화</th>\n      <th>주소</th>\n    </tr>\n  </thead>\n  <tbody>\n    <tr>\n      <th>0</th>\n      <td>반짝반짝빛나는</td>\n      <td>4.4</td>\n      <td>단호박퓨레 타르트, 밀크티</td>\n      <td>053-954-8111</td>\n      <td>대구광역시 북구 대학로23길 12-1</td>\n    </tr>\n    <tr>\n      <th>1</th>\n      <td>인도방랑기</td>\n      <td>3.5</td>\n      <td>탄두리치킨, 커리, 세트메뉴</td>\n      <td>053-956-9940</td>\n      <td>대구광역시 북구 대학로 81</td>\n    </tr>\n    <tr>\n      <th>2</th>\n      <td>ZZIM</td>\n      <td>4.8</td>\n      <td>한마리, 가든샐러드</td>\n      <td>053-941-7272</td>\n      <td>대구 북구 대학로 61</td>\n    </tr>\n    <tr>\n      <th>3</th>\n      <td>홍대함바그</td>\n      <td>3.7</td>\n      <td>매콤함바그, 달콤함바그, 매콤갈비, 달콤갈비</td>\n      <td>053-269-5008</td>\n      <td>대구광역시 북구 대학로23길 19-6</td>\n    </tr>\n    <tr>\n      <th>4</th>\n      <td>밥하는남자</td>\n      <td>3.0</td>\n      <td>상하이누룽지, 통낙지라이스, 돈카츠샐러드</td>\n      <td>070-7584-1078</td>\n      <td>대구광역시 북구 대학로23길 25-2</td>\n    </tr>\n    <tr>\n      <th>5</th>\n      <td>포베트21</td>\n      <td>3.0</td>\n      <td>양지 쇠고기 쌀국수, 세트(월남쌈+양지or해물쌀국수2개), 반세오, 월남쌈, 카오팟...</td>\n      <td>053-939-3688</td>\n      <td>대구시 북구 산격동 1416-49</td>\n    </tr>\n    <tr>\n      <th>6</th>\n      <td>봉봉해물탕</td>\n      <td>평가중</td>\n      <td>해물탕\\n, 해물찜</td>\n      <td>053-383-8000</td>\n      <td>대구 북구 유통단지로7길 21</td>\n    </tr>\n    <tr>\n      <th>7</th>\n      <td>72번가</td>\n      <td>4.3</td>\n      <td>준벅, 카우보이정식, 코스모 폴리탄, 프렌치 키스</td>\n      <td>053-939-0817</td>\n      <td>대구 북구 산격동 1393-1</td>\n    </tr>\n    <tr>\n      <th>8</th>\n      <td>META PIZZA</td>\n      <td>4.3</td>\n      <td>미트디럭스피자, 쉬림프토파토 파스타, 로제, 프리마베라 피자, 쉬림프크림 파스타</td>\n      <td>053-939-6767</td>\n      <td>대구광역시 북구 대학로 103 지하1층</td>\n    </tr>\n    <tr>\n      <th>9</th>\n      <td>모모야스시 참치</td>\n      <td>평가중</td>\n      <td>모듬 스시 11P, 특스시 13P, 모모야스시 11P, 참치메뉴, 광어추가회</td>\n      <td>053-381-8999</td>\n      <td>대구광역시 북구 대불로 37</td>\n    </tr>\n    <tr>\n      <th>10</th>\n      <td>1905몬스터피자</td>\n      <td>평가중</td>\n      <td>오리지날치즈 피자/페퍼로니 피자/베이컨체다 피자, 콤비네이션 피자/케이준치킨 피자/...</td>\n      <td>053-944-2520</td>\n      <td>대구광역시 북구 대학로15길 6</td>\n    </tr>\n    <tr>\n      <th>11</th>\n      <td>반미리코</td>\n      <td>평가중</td>\n      <td>돼지고기/닭고기/어묵 반미, 소고기 치즈 반미, 쌀국수, 팟타이, 분보싸오</td>\n      <td>070-8278-1607</td>\n      <td>대구 북구 대학로23길 7</td>\n    </tr>\n  </tbody>\n</table>\n</div>"
     },
     "metadata": {},
     "execution_count": 37
    }
   ],
   "source": [
    "df = pd.DataFrame({\n",
    "        '상호':name_list, '평점':score_list, '메뉴':menu_list,\n",
    "        '전화':tel_list, '주소':addr_list\n",
    "})\n",
    "df"
   ]
  },
  {
   "cell_type": "code",
   "execution_count": null,
   "metadata": {},
   "outputs": [],
   "source": []
  }
 ]
}